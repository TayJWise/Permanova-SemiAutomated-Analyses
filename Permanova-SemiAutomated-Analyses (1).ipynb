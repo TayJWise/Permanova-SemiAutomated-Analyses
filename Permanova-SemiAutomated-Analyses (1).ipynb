{
 "cells": [
  {
   "cell_type": "code",
   "execution_count": 6,
   "metadata": {},
   "outputs": [],
   "source": [
    "# Semi-automate data "
   ]
  },
  {
   "cell_type": "code",
   "execution_count": 7,
   "metadata": {},
   "outputs": [],
   "source": [
    "# Imports pandas, which is used for data parsing \n",
    "# Make sure QIIME2 is activated and pandas is installed\n",
    "import pandas as  pd"
   ]
  },
  {
   "cell_type": "code",
   "execution_count": 8,
   "metadata": {},
   "outputs": [],
   "source": [
    "# ONLY RUN ONCE\n",
    "i = 0"
   ]
  },
  {
   "cell_type": "code",
   "execution_count": 9,
   "metadata": {},
   "outputs": [],
   "source": [
    "# ONLY CELL REQUIRING INPUT\n",
    "# Can use 'Run All Below' here from 'Cell' taskbar\n",
    "\n",
    "# Input combined data file\n",
    "dataFile = \"serum_and_cecum_data.txt\"\n",
    "combinedData = pd.read_table(dataFile)\n",
    "\n",
    "# Input metadata file\n",
    "metadata = \"serum_and_cecum_metadata.txt\"\n",
    "metadataTable = pd.read_table(metadata)\n",
    "\n",
    "# Input column name with sample types\n",
    "columnType = 'ATTRIBUTE_SampleType'\n",
    "\n",
    "# Input the metadata column used for the visualization file\n",
    "attributeType = 'ATTRIBUTE_diet'"
   ]
  },
  {
   "cell_type": "code",
   "execution_count": 10,
   "metadata": {},
   "outputs": [
    {
     "data": {
      "text/html": [
       "<div>\n",
       "<style scoped>\n",
       "    .dataframe tbody tr th:only-of-type {\n",
       "        vertical-align: middle;\n",
       "    }\n",
       "\n",
       "    .dataframe tbody tr th {\n",
       "        vertical-align: top;\n",
       "    }\n",
       "\n",
       "    .dataframe thead th {\n",
       "        text-align: right;\n",
       "    }\n",
       "</style>\n",
       "<table border=\"1\" class=\"dataframe\">\n",
       "  <thead>\n",
       "    <tr style=\"text-align: right;\">\n",
       "      <th></th>\n",
       "      <th>sample-id</th>\n",
       "      <th>X685.5337_3.76</th>\n",
       "      <th>X385.142_2.61</th>\n",
       "      <th>X476.2701_0.45</th>\n",
       "      <th>X699.3657_2.29</th>\n",
       "      <th>X635.3052_2.6</th>\n",
       "      <th>X299.65_0.64</th>\n",
       "      <th>X331.2219_2.09</th>\n",
       "      <th>X390.7519_2.15</th>\n",
       "      <th>X655.5228_3.99</th>\n",
       "      <th>...</th>\n",
       "      <th>X591.3157_2.44</th>\n",
       "      <th>X447.3086_3</th>\n",
       "      <th>X785.5881_2.83</th>\n",
       "      <th>X511.3592_3.32</th>\n",
       "      <th>X817.5779_2.67</th>\n",
       "      <th>X391.2826_2.78</th>\n",
       "      <th>X355.2615_2.67</th>\n",
       "      <th>X373.272_2.61</th>\n",
       "      <th>X357.2772_2.83</th>\n",
       "      <th>X373.2721_2.67</th>\n",
       "    </tr>\n",
       "  </thead>\n",
       "  <tbody>\n",
       "    <tr>\n",
       "      <th>0</th>\n",
       "      <td>P115_D1_Conventional_cellulose_33_NT.mzXML</td>\n",
       "      <td>0.0</td>\n",
       "      <td>0.0</td>\n",
       "      <td>0.0</td>\n",
       "      <td>0.0</td>\n",
       "      <td>0.0</td>\n",
       "      <td>0.0</td>\n",
       "      <td>0.0</td>\n",
       "      <td>0.0</td>\n",
       "      <td>0.0</td>\n",
       "      <td>...</td>\n",
       "      <td>0.003766</td>\n",
       "      <td>0.000000</td>\n",
       "      <td>0.064470</td>\n",
       "      <td>0.0</td>\n",
       "      <td>0.022398</td>\n",
       "      <td>0.039077</td>\n",
       "      <td>0.046975</td>\n",
       "      <td>0.168414</td>\n",
       "      <td>0.239779</td>\n",
       "      <td>0.152882</td>\n",
       "    </tr>\n",
       "    <tr>\n",
       "      <th>1</th>\n",
       "      <td>P115_D10_Conventional_whole_grains_34_2LET.mzXML</td>\n",
       "      <td>0.0</td>\n",
       "      <td>0.0</td>\n",
       "      <td>0.0</td>\n",
       "      <td>0.0</td>\n",
       "      <td>0.0</td>\n",
       "      <td>0.0</td>\n",
       "      <td>0.0</td>\n",
       "      <td>0.0</td>\n",
       "      <td>0.0</td>\n",
       "      <td>...</td>\n",
       "      <td>0.014651</td>\n",
       "      <td>0.000000</td>\n",
       "      <td>0.114038</td>\n",
       "      <td>0.0</td>\n",
       "      <td>0.015444</td>\n",
       "      <td>0.000000</td>\n",
       "      <td>0.064935</td>\n",
       "      <td>0.000000</td>\n",
       "      <td>0.335005</td>\n",
       "      <td>0.000000</td>\n",
       "    </tr>\n",
       "    <tr>\n",
       "      <th>2</th>\n",
       "      <td>P115_D11_Conventional_vegetable_35_NT.mzXML</td>\n",
       "      <td>0.0</td>\n",
       "      <td>0.0</td>\n",
       "      <td>0.0</td>\n",
       "      <td>0.0</td>\n",
       "      <td>0.0</td>\n",
       "      <td>0.0</td>\n",
       "      <td>0.0</td>\n",
       "      <td>0.0</td>\n",
       "      <td>0.0</td>\n",
       "      <td>...</td>\n",
       "      <td>0.001102</td>\n",
       "      <td>0.000000</td>\n",
       "      <td>0.038302</td>\n",
       "      <td>0.0</td>\n",
       "      <td>0.016525</td>\n",
       "      <td>0.044081</td>\n",
       "      <td>0.000000</td>\n",
       "      <td>0.433875</td>\n",
       "      <td>0.147597</td>\n",
       "      <td>0.000000</td>\n",
       "    </tr>\n",
       "    <tr>\n",
       "      <th>3</th>\n",
       "      <td>P115_D12_Conventional_vegetable_35_LET.mzXML</td>\n",
       "      <td>0.0</td>\n",
       "      <td>0.0</td>\n",
       "      <td>0.0</td>\n",
       "      <td>0.0</td>\n",
       "      <td>0.0</td>\n",
       "      <td>0.0</td>\n",
       "      <td>0.0</td>\n",
       "      <td>0.0</td>\n",
       "      <td>0.0</td>\n",
       "      <td>...</td>\n",
       "      <td>0.000261</td>\n",
       "      <td>0.000769</td>\n",
       "      <td>0.007514</td>\n",
       "      <td>0.0</td>\n",
       "      <td>0.021021</td>\n",
       "      <td>0.000000</td>\n",
       "      <td>0.088131</td>\n",
       "      <td>0.000000</td>\n",
       "      <td>0.121502</td>\n",
       "      <td>0.227194</td>\n",
       "    </tr>\n",
       "    <tr>\n",
       "      <th>4</th>\n",
       "      <td>P115_D2_Conventional_cellulose_33_LET.mzXML</td>\n",
       "      <td>0.0</td>\n",
       "      <td>0.0</td>\n",
       "      <td>0.0</td>\n",
       "      <td>0.0</td>\n",
       "      <td>0.0</td>\n",
       "      <td>0.0</td>\n",
       "      <td>0.0</td>\n",
       "      <td>0.0</td>\n",
       "      <td>0.0</td>\n",
       "      <td>...</td>\n",
       "      <td>0.008581</td>\n",
       "      <td>0.000000</td>\n",
       "      <td>0.020320</td>\n",
       "      <td>0.0</td>\n",
       "      <td>0.027133</td>\n",
       "      <td>0.000000</td>\n",
       "      <td>0.065095</td>\n",
       "      <td>0.457712</td>\n",
       "      <td>0.059399</td>\n",
       "      <td>0.000000</td>\n",
       "    </tr>\n",
       "  </tbody>\n",
       "</table>\n",
       "<p>5 rows × 2686 columns</p>\n",
       "</div>"
      ],
      "text/plain": [
       "                                          sample-id  X685.5337_3.76  \\\n",
       "0        P115_D1_Conventional_cellulose_33_NT.mzXML             0.0   \n",
       "1  P115_D10_Conventional_whole_grains_34_2LET.mzXML             0.0   \n",
       "2       P115_D11_Conventional_vegetable_35_NT.mzXML             0.0   \n",
       "3      P115_D12_Conventional_vegetable_35_LET.mzXML             0.0   \n",
       "4       P115_D2_Conventional_cellulose_33_LET.mzXML             0.0   \n",
       "\n",
       "   X385.142_2.61  X476.2701_0.45  X699.3657_2.29  X635.3052_2.6  X299.65_0.64  \\\n",
       "0            0.0             0.0             0.0            0.0           0.0   \n",
       "1            0.0             0.0             0.0            0.0           0.0   \n",
       "2            0.0             0.0             0.0            0.0           0.0   \n",
       "3            0.0             0.0             0.0            0.0           0.0   \n",
       "4            0.0             0.0             0.0            0.0           0.0   \n",
       "\n",
       "   X331.2219_2.09  X390.7519_2.15  X655.5228_3.99  ...  X591.3157_2.44  \\\n",
       "0             0.0             0.0             0.0  ...        0.003766   \n",
       "1             0.0             0.0             0.0  ...        0.014651   \n",
       "2             0.0             0.0             0.0  ...        0.001102   \n",
       "3             0.0             0.0             0.0  ...        0.000261   \n",
       "4             0.0             0.0             0.0  ...        0.008581   \n",
       "\n",
       "   X447.3086_3  X785.5881_2.83  X511.3592_3.32  X817.5779_2.67  \\\n",
       "0     0.000000        0.064470             0.0        0.022398   \n",
       "1     0.000000        0.114038             0.0        0.015444   \n",
       "2     0.000000        0.038302             0.0        0.016525   \n",
       "3     0.000769        0.007514             0.0        0.021021   \n",
       "4     0.000000        0.020320             0.0        0.027133   \n",
       "\n",
       "   X391.2826_2.78  X355.2615_2.67  X373.272_2.61  X357.2772_2.83  \\\n",
       "0        0.039077        0.046975       0.168414        0.239779   \n",
       "1        0.000000        0.064935       0.000000        0.335005   \n",
       "2        0.044081        0.000000       0.433875        0.147597   \n",
       "3        0.000000        0.088131       0.000000        0.121502   \n",
       "4        0.000000        0.065095       0.457712        0.059399   \n",
       "\n",
       "   X373.2721_2.67  \n",
       "0        0.152882  \n",
       "1        0.000000  \n",
       "2        0.000000  \n",
       "3        0.227194  \n",
       "4        0.000000  \n",
       "\n",
       "[5 rows x 2686 columns]"
      ]
     },
     "execution_count": 10,
     "metadata": {},
     "output_type": "execute_result"
    }
   ],
   "source": [
    "combinedData.head()"
   ]
  },
  {
   "cell_type": "code",
   "execution_count": 11,
   "metadata": {
    "scrolled": true
   },
   "outputs": [
    {
     "data": {
      "text/html": [
       "<div>\n",
       "<style scoped>\n",
       "    .dataframe tbody tr th:only-of-type {\n",
       "        vertical-align: middle;\n",
       "    }\n",
       "\n",
       "    .dataframe tbody tr th {\n",
       "        vertical-align: top;\n",
       "    }\n",
       "\n",
       "    .dataframe thead th {\n",
       "        text-align: right;\n",
       "    }\n",
       "</style>\n",
       "<table border=\"1\" class=\"dataframe\">\n",
       "  <thead>\n",
       "    <tr style=\"text-align: right;\">\n",
       "      <th></th>\n",
       "      <th>sample-id</th>\n",
       "      <th>ATTRIBUTE_SampleType</th>\n",
       "      <th>ATTRIBUTE_donor</th>\n",
       "      <th>ATTRIBUTE_diet</th>\n",
       "      <th>ATTRIBUTE_Mouse_Number</th>\n",
       "      <th>Unnamed: 5</th>\n",
       "      <th>Unnamed: 6</th>\n",
       "      <th>Unnamed: 7</th>\n",
       "      <th>Unnamed: 8</th>\n",
       "      <th>Unnamed: 9</th>\n",
       "      <th>...</th>\n",
       "      <th>Unnamed: 2673</th>\n",
       "      <th>Unnamed: 2674</th>\n",
       "      <th>Unnamed: 2675</th>\n",
       "      <th>Unnamed: 2676</th>\n",
       "      <th>Unnamed: 2677</th>\n",
       "      <th>Unnamed: 2678</th>\n",
       "      <th>Unnamed: 2679</th>\n",
       "      <th>Unnamed: 2680</th>\n",
       "      <th>Unnamed: 2681</th>\n",
       "      <th>Unnamed: 2682</th>\n",
       "    </tr>\n",
       "  </thead>\n",
       "  <tbody>\n",
       "    <tr>\n",
       "      <th>0</th>\n",
       "      <td>P115_D1_Conventional_cellulose_33_NT.mzXML</td>\n",
       "      <td>cecum contents</td>\n",
       "      <td>Conventional</td>\n",
       "      <td>cellulose</td>\n",
       "      <td>33_NT</td>\n",
       "      <td>NaN</td>\n",
       "      <td>NaN</td>\n",
       "      <td>NaN</td>\n",
       "      <td>NaN</td>\n",
       "      <td>NaN</td>\n",
       "      <td>...</td>\n",
       "      <td>NaN</td>\n",
       "      <td>NaN</td>\n",
       "      <td>NaN</td>\n",
       "      <td>NaN</td>\n",
       "      <td>NaN</td>\n",
       "      <td>NaN</td>\n",
       "      <td>NaN</td>\n",
       "      <td>NaN</td>\n",
       "      <td>NaN</td>\n",
       "      <td>NaN</td>\n",
       "    </tr>\n",
       "    <tr>\n",
       "      <th>1</th>\n",
       "      <td>P115_D10_Conventional_whole_grains_34_2LET.mzXML</td>\n",
       "      <td>cecum contents</td>\n",
       "      <td>Conventional</td>\n",
       "      <td>whole_grains</td>\n",
       "      <td>34_2LET</td>\n",
       "      <td>NaN</td>\n",
       "      <td>NaN</td>\n",
       "      <td>NaN</td>\n",
       "      <td>NaN</td>\n",
       "      <td>NaN</td>\n",
       "      <td>...</td>\n",
       "      <td>NaN</td>\n",
       "      <td>NaN</td>\n",
       "      <td>NaN</td>\n",
       "      <td>NaN</td>\n",
       "      <td>NaN</td>\n",
       "      <td>NaN</td>\n",
       "      <td>NaN</td>\n",
       "      <td>NaN</td>\n",
       "      <td>NaN</td>\n",
       "      <td>NaN</td>\n",
       "    </tr>\n",
       "    <tr>\n",
       "      <th>2</th>\n",
       "      <td>P115_D11_Conventional_vegetable_35_NT.mzXML</td>\n",
       "      <td>cecum contents</td>\n",
       "      <td>Conventional</td>\n",
       "      <td>vegetable</td>\n",
       "      <td>35_NT</td>\n",
       "      <td>NaN</td>\n",
       "      <td>NaN</td>\n",
       "      <td>NaN</td>\n",
       "      <td>NaN</td>\n",
       "      <td>NaN</td>\n",
       "      <td>...</td>\n",
       "      <td>NaN</td>\n",
       "      <td>NaN</td>\n",
       "      <td>NaN</td>\n",
       "      <td>NaN</td>\n",
       "      <td>NaN</td>\n",
       "      <td>NaN</td>\n",
       "      <td>NaN</td>\n",
       "      <td>NaN</td>\n",
       "      <td>NaN</td>\n",
       "      <td>NaN</td>\n",
       "    </tr>\n",
       "    <tr>\n",
       "      <th>3</th>\n",
       "      <td>P115_D12_Conventional_vegetable_35_LET.mzXML</td>\n",
       "      <td>cecum contents</td>\n",
       "      <td>Conventional</td>\n",
       "      <td>vegetable</td>\n",
       "      <td>35_LET</td>\n",
       "      <td>NaN</td>\n",
       "      <td>NaN</td>\n",
       "      <td>NaN</td>\n",
       "      <td>NaN</td>\n",
       "      <td>NaN</td>\n",
       "      <td>...</td>\n",
       "      <td>NaN</td>\n",
       "      <td>NaN</td>\n",
       "      <td>NaN</td>\n",
       "      <td>NaN</td>\n",
       "      <td>NaN</td>\n",
       "      <td>NaN</td>\n",
       "      <td>NaN</td>\n",
       "      <td>NaN</td>\n",
       "      <td>NaN</td>\n",
       "      <td>NaN</td>\n",
       "    </tr>\n",
       "    <tr>\n",
       "      <th>4</th>\n",
       "      <td>P115_D2_Conventional_cellulose_33_LET.mzXML</td>\n",
       "      <td>cecum contents</td>\n",
       "      <td>Conventional</td>\n",
       "      <td>cellulose</td>\n",
       "      <td>33_LET</td>\n",
       "      <td>NaN</td>\n",
       "      <td>NaN</td>\n",
       "      <td>NaN</td>\n",
       "      <td>NaN</td>\n",
       "      <td>NaN</td>\n",
       "      <td>...</td>\n",
       "      <td>NaN</td>\n",
       "      <td>NaN</td>\n",
       "      <td>NaN</td>\n",
       "      <td>NaN</td>\n",
       "      <td>NaN</td>\n",
       "      <td>NaN</td>\n",
       "      <td>NaN</td>\n",
       "      <td>NaN</td>\n",
       "      <td>NaN</td>\n",
       "      <td>NaN</td>\n",
       "    </tr>\n",
       "  </tbody>\n",
       "</table>\n",
       "<p>5 rows × 2683 columns</p>\n",
       "</div>"
      ],
      "text/plain": [
       "                                          sample-id ATTRIBUTE_SampleType  \\\n",
       "0        P115_D1_Conventional_cellulose_33_NT.mzXML       cecum contents   \n",
       "1  P115_D10_Conventional_whole_grains_34_2LET.mzXML       cecum contents   \n",
       "2       P115_D11_Conventional_vegetable_35_NT.mzXML       cecum contents   \n",
       "3      P115_D12_Conventional_vegetable_35_LET.mzXML       cecum contents   \n",
       "4       P115_D2_Conventional_cellulose_33_LET.mzXML       cecum contents   \n",
       "\n",
       "  ATTRIBUTE_donor ATTRIBUTE_diet ATTRIBUTE_Mouse_Number  Unnamed: 5  \\\n",
       "0    Conventional      cellulose                  33_NT         NaN   \n",
       "1    Conventional   whole_grains                34_2LET         NaN   \n",
       "2    Conventional      vegetable                  35_NT         NaN   \n",
       "3    Conventional      vegetable                 35_LET         NaN   \n",
       "4    Conventional      cellulose                 33_LET         NaN   \n",
       "\n",
       "   Unnamed: 6  Unnamed: 7  Unnamed: 8  Unnamed: 9  ...  Unnamed: 2673  \\\n",
       "0         NaN         NaN         NaN         NaN  ...            NaN   \n",
       "1         NaN         NaN         NaN         NaN  ...            NaN   \n",
       "2         NaN         NaN         NaN         NaN  ...            NaN   \n",
       "3         NaN         NaN         NaN         NaN  ...            NaN   \n",
       "4         NaN         NaN         NaN         NaN  ...            NaN   \n",
       "\n",
       "   Unnamed: 2674  Unnamed: 2675  Unnamed: 2676  Unnamed: 2677  Unnamed: 2678  \\\n",
       "0            NaN            NaN            NaN            NaN            NaN   \n",
       "1            NaN            NaN            NaN            NaN            NaN   \n",
       "2            NaN            NaN            NaN            NaN            NaN   \n",
       "3            NaN            NaN            NaN            NaN            NaN   \n",
       "4            NaN            NaN            NaN            NaN            NaN   \n",
       "\n",
       "   Unnamed: 2679  Unnamed: 2680  Unnamed: 2681  Unnamed: 2682  \n",
       "0            NaN            NaN            NaN            NaN  \n",
       "1            NaN            NaN            NaN            NaN  \n",
       "2            NaN            NaN            NaN            NaN  \n",
       "3            NaN            NaN            NaN            NaN  \n",
       "4            NaN            NaN            NaN            NaN  \n",
       "\n",
       "[5 rows x 2683 columns]"
      ]
     },
     "execution_count": 11,
     "metadata": {},
     "output_type": "execute_result"
    }
   ],
   "source": [
    "metadataTable.head()"
   ]
  },
  {
   "cell_type": "code",
   "execution_count": 12,
   "metadata": {
    "scrolled": true
   },
   "outputs": [
    {
     "name": "stdout",
     "output_type": "stream",
     "text": [
      "['cecum contents' 'serum']\n"
     ]
    }
   ],
   "source": [
    "# Gives the names of each unique sample\n",
    "sampleTypes = metadataTable[columnType].unique()\n",
    "print(sampleTypes)"
   ]
  },
  {
   "cell_type": "code",
   "execution_count": 13,
   "metadata": {},
   "outputs": [],
   "source": [
    "# Finds the indexes of the samples in the ATTRIBUTE_SampleType column\n",
    "# Save sampleIDs corresponding to that sample into a list with the indexes\n",
    "# By using i variable, it selects a sampleType from the samples listed in the previous cell\n",
    "sampleIndexes = metadataTable.loc[metadataTable[columnType] == sampleTypes[i]].index.tolist()"
   ]
  },
  {
   "cell_type": "code",
   "execution_count": 14,
   "metadata": {},
   "outputs": [
    {
     "name": "stdout",
     "output_type": "stream",
     "text": [
      "0            P115_D1_Conventional_cellulose_33_NT.mzXML\n",
      "1      P115_D10_Conventional_whole_grains_34_2LET.mzXML\n",
      "2           P115_D11_Conventional_vegetable_35_NT.mzXML\n",
      "3          P115_D12_Conventional_vegetable_35_LET.mzXML\n",
      "4           P115_D2_Conventional_cellulose_33_LET.mzXML\n",
      "                             ...                       \n",
      "145               P115_B3_WLS_291_cellulose_28_NT.mzXML\n",
      "146              P115_B4_WLS_291_cellulose_28_LET.mzXML\n",
      "147              P115_B5_WLS_291_cellulose_28_RET.mzXML\n",
      "148              P115_B6_WLS_291_cellulose_28_BET.mzXML\n",
      "149             P115_B7_WLS_291_cellulose_28_2LET.mzXML\n",
      "Name: sample-id, Length: 150, dtype: object\n"
     ]
    }
   ],
   "source": [
    "# Finds sampleIDs from metadataTable given previously found organ indexes\n",
    "sampleIDs = metadataTable['sample-id'].iloc[sampleIndexes]\n",
    "print(sampleIDs)"
   ]
  },
  {
   "cell_type": "code",
   "execution_count": 15,
   "metadata": {},
   "outputs": [],
   "source": [
    "# Saves the sampleIDs found at the indexes\n",
    "values = metadataTable['sample-id'].loc[sampleIndexes]"
   ]
  },
  {
   "cell_type": "code",
   "execution_count": 16,
   "metadata": {},
   "outputs": [
    {
     "name": "stdout",
     "output_type": "stream",
     "text": [
      "[0, 1, 2, 3, 4, 5, 6, 7, 8, 9, 10, 11, 12, 13, 14, 15, 16, 17, 18, 19, 20, 21, 22, 23, 24, 25, 26, 27, 28, 29, 30, 31, 32, 33, 34, 35, 36, 37, 38, 39, 40, 41, 42, 43, 44, 45, 46, 47, 48, 49, 50, 51, 52, 53, 54, 55, 56, 57, 58, 59, 60, 61, 62, 63, 64, 65, 66, 67, 68, 69, 70, 71, 72, 73, 74, 75, 76, 77, 78, 79, 80, 81, 82, 83, 84, 85, 86, 87, 88, 89, 90, 91, 92, 93, 94, 95, 96, 97, 98, 99, 100, 101, 102, 103, 104, 105, 106, 107, 108, 109, 110, 111, 112, 113, 114, 115, 116, 117, 118, 119, 120, 121, 122, 123, 124, 125, 126, 127, 128, 129, 130, 131, 132, 133, 134, 135, 136, 137, 138, 139, 140, 141, 142, 143, 144, 145, 146, 147, 148, 149]\n"
     ]
    }
   ],
   "source": [
    "# Finds the indexes where the sampleIDs occur in the combinedData dataset\n",
    "test = []\n",
    "for j in sampleIndexes:\n",
    "    test = test + (combinedData.loc[combinedData['sample-id'].str.match(values[j])].index.tolist())\n",
    "    \n",
    "print(test)"
   ]
  },
  {
   "cell_type": "code",
   "execution_count": 17,
   "metadata": {},
   "outputs": [
    {
     "name": "stdout",
     "output_type": "stream",
     "text": [
      "['cecum_contents' 'serum']\n"
     ]
    }
   ],
   "source": [
    "# Makes sure there's no spaces in the organs so filenames are cleaner\n",
    "for j in range(len(sampleTypes)):\n",
    "    sampleTypes[j] = sampleTypes[j].replace(\" \", \"_\")\n",
    "print(sampleTypes)"
   ]
  },
  {
   "cell_type": "code",
   "execution_count": 18,
   "metadata": {},
   "outputs": [],
   "source": [
    "# Add \"_data.csv\" to the end of each organ's file name\n",
    "for j in range(len(sampleTypes)):\n",
    "    sampleTypes[j] = sampleTypes[j].replace(\" \", \"_\")\n",
    "    sampleTypes[j] = sampleTypes[j] + \"_data.csv\""
   ]
  },
  {
   "cell_type": "code",
   "execution_count": 19,
   "metadata": {},
   "outputs": [],
   "source": [
    "# stores indexes of rows with correct sample-id into a variable\n",
    "selectedRows = combinedData.iloc[test]"
   ]
  },
  {
   "cell_type": "code",
   "execution_count": 21,
   "metadata": {},
   "outputs": [],
   "source": [
    "# Variables to hold adjustable file names\n",
    "fileName = sampleTypes[i]\n",
    "fileNameNoTxt = fileName.replace(\".csv\",\"\")\n",
    "fileNameQza = fileNameNoTxt + \".qza\"\n",
    "visualizationFile = fileNameNoTxt + \"_\" + attributeType + \"-significance.qzv\""
   ]
  },
  {
   "cell_type": "code",
   "execution_count": 22,
   "metadata": {},
   "outputs": [],
   "source": [
    "# Creates csv file with \\t delimeter\n",
    "selectedRows.to_csv(fileName, sep='\\t', index=False)"
   ]
  },
  {
   "cell_type": "code",
   "execution_count": 23,
   "metadata": {},
   "outputs": [],
   "source": [
    "# Creates variable holding emperor filename\n",
    "sampleName = fileNameNoTxt.replace(\"_data\", \"\")\n",
    "sampleEmperor = sampleName + \"_emperor\"\n",
    "i = i + 1"
   ]
  },
  {
   "cell_type": "code",
   "execution_count": 25,
   "metadata": {},
   "outputs": [],
   "source": [
    "# Creates braycurtis filenames\n",
    "braycurtisOutput = \"braycurtis_qiime2_\" + sampleName\n",
    "braycurtisQza = braycurtisOutput + \"/distance_matrix.qza\"\n",
    "braycurtisPCoA = braycurtisOutput + \"_PCoA\"\n",
    "braycurtisPCoAQza = braycurtisPCoA + \"/pcoa.qza\""
   ]
  },
  {
   "cell_type": "code",
   "execution_count": 26,
   "metadata": {},
   "outputs": [
    {
     "name": "stdout",
     "output_type": "stream",
     "text": [
      "Saved FeatureTable[Frequency] to: cecum_contents_data.qza\n"
     ]
    }
   ],
   "source": [
    "%%bash -s \"$fileName\" \"$fileNameNoTxt\"\n",
    "qiime sample-classifier metatable \\\n",
    "--m-metadata-file $1 \\\n",
    " --o-converted-table $2 \\\n"
   ]
  },
  {
   "cell_type": "code",
   "execution_count": 27,
   "metadata": {},
   "outputs": [
    {
     "name": "stdout",
     "output_type": "stream",
     "text": [
      "Saved DistanceMatrix to: braycurtis_qiime2_cecum_contents/distance_matrix.qza\n"
     ]
    }
   ],
   "source": [
    "%%bash -s \"$fileNameQza\" \"$braycurtisOutput\"\n",
    "qiime diversity beta \\\n",
    "--i-table $1 \\\n",
    "--p-metric \"braycurtis\" \\\n",
    "--output-dir $2\n"
   ]
  },
  {
   "cell_type": "code",
   "execution_count": 28,
   "metadata": {},
   "outputs": [
    {
     "name": "stdout",
     "output_type": "stream",
     "text": [
      "Saved PCoAResults to: braycurtis_qiime2_cecum_contents_PCoA/pcoa.qza\n"
     ]
    }
   ],
   "source": [
    "%%bash -s \"$braycurtisQza\" \"$braycurtisPCoA\"\n",
    "qiime diversity pcoa \\\n",
    "--i-distance-matrix $1 \\\n",
    "--output-dir $2\n"
   ]
  },
  {
   "cell_type": "code",
   "execution_count": 29,
   "metadata": {},
   "outputs": [
    {
     "name": "stdout",
     "output_type": "stream",
     "text": [
      "Saved Visualization to: cecum_contents_emperor/visualization.qzv\n"
     ]
    }
   ],
   "source": [
    "%%bash -s \"$braycurtisPCoAQza\" \"$metadata\" \"$sampleEmperor\"\n",
    "qiime emperor plot \\\n",
    "--i-pcoa $1 \\\n",
    "--m-metadata-file $2 \\\n",
    "--output-dir $3\n"
   ]
  },
  {
   "cell_type": "code",
   "execution_count": 30,
   "metadata": {},
   "outputs": [
    {
     "name": "stdout",
     "output_type": "stream",
     "text": [
      "Saved Visualization to: cecum_contents_data_ATTRIBUTE_diet-significance.qzv\n"
     ]
    }
   ],
   "source": [
    "%%bash -s \"$braycurtisQza\" \"$metadata\" \"$attributeType\" \"$visualizationFile\"\n",
    "qiime diversity beta-group-significance \\\n",
    "  --i-distance-matrix $1 \\\n",
    "  --m-metadata-file $2 \\\n",
    "  --m-metadata-column $3 \\\n",
    "  --o-visualization $4 \\\n",
    "  --p-pairwise\n"
   ]
  }
 ],
 "metadata": {
  "kernelspec": {
   "display_name": "Python 3 (ipykernel)",
   "language": "python",
   "name": "python3"
  },
  "language_info": {
   "codemirror_mode": {
    "name": "ipython",
    "version": 3
   },
   "file_extension": ".py",
   "mimetype": "text/x-python",
   "name": "python",
   "nbconvert_exporter": "python",
   "pygments_lexer": "ipython3",
   "version": "3.9.13"
  }
 },
 "nbformat": 4,
 "nbformat_minor": 2
}
